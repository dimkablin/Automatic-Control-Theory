{
 "cells": [
  {
   "cell_type": "code",
   "execution_count": 6,
   "metadata": {},
   "outputs": [],
   "source": [
    "import numpy as np\n",
    "import pandas as pd\n"
   ]
  },
  {
   "cell_type": "code",
   "execution_count": 1,
   "metadata": {},
   "outputs": [
    {
     "name": "stdout",
     "output_type": "stream",
     "text": [
      "Средняя разница между максимальным и минимальным значениями: 2.46942\n"
     ]
    }
   ],
   "source": [
    "import random\n",
    "\n",
    "def roll_dice():\n",
    "    return random.randint(1, 6)\n",
    "\n",
    "def monte_carlo_simulations(num_simulations):\n",
    "    total_difference = 0\n",
    "    for _ in range(num_simulations):\n",
    "        # Фиксируем значение второго броска\n",
    "        second_roll = 3\n",
    "        # Выполняем три броска и находим максимальное и минимальное значение\n",
    "        rolls = [roll_dice(), second_roll, roll_dice()]\n",
    "        max_value = max(rolls)\n",
    "        min_value = min(rolls)\n",
    "        # Вычисляем разницу между максимальным и минимальным значением\n",
    "        difference = max_value - min_value\n",
    "        total_difference += difference\n",
    "    # Вычисляем среднюю разницу между максимальным и минимальным значением\n",
    "    average_difference = total_difference / num_simulations\n",
    "    return average_difference\n",
    "\n",
    "# Количество симуляций\n",
    "num_simulations = 100000\n",
    "# Получаем среднюю разницу между максимальным и минимальным значениями\n",
    "average_difference = monte_carlo_simulations(num_simulations)\n",
    "print(\"Средняя разница между максимальным и минимальным значениями:\", average_difference)\n"
   ]
  },
  {
   "cell_type": "code",
   "execution_count": 3,
   "metadata": {},
   "outputs": [
    {
     "data": {
      "text/plain": [
       "0.211655412565374"
      ]
     },
     "execution_count": 3,
     "metadata": {},
     "output_type": "execute_result"
    }
   ],
   "source": [
    "import math\n",
    "\n",
    "(math.pi - math.e)/2"
   ]
  },
  {
   "cell_type": "code",
   "execution_count": 4,
   "metadata": {},
   "outputs": [
    {
     "data": {
      "text/plain": [
       "-0.6842105263157895"
      ]
     },
     "execution_count": 4,
     "metadata": {},
     "output_type": "execute_result"
    }
   ],
   "source": [
    "-13/19"
   ]
  },
  {
   "cell_type": "code",
   "execution_count": 10,
   "metadata": {},
   "outputs": [
    {
     "data": {
      "text/plain": [
       "[1, 3, 4]"
      ]
     },
     "execution_count": 10,
     "metadata": {},
     "output_type": "execute_result"
    }
   ],
   "source": [
    "N = int(input())\n",
    "S = list(map(int, input().split(\" \")))\n",
    "S.sort()"
   ]
  },
  {
   "cell_type": "code",
   "execution_count": 46,
   "metadata": {},
   "outputs": [
    {
     "name": "stdout",
     "output_type": "stream",
     "text": [
      "4.5\n",
      "1 10\n"
     ]
    }
   ],
   "source": [
    "S = [1, 3, 5, 10]\n",
    "\n",
    "i = 1\n",
    "n = len(S)\n",
    "num = S[-1]-S[0]\n",
    "den = num\n",
    "i_min = i\n",
    "while(i + n//2 <= n-1):\n",
    "    den_i = S[i+n//2-1] - S[i]\n",
    "    if den_i<den:\n",
    "        den = den_i\n",
    "        i_min = i\n",
    "    i += 1\n",
    "print(num/den)\n",
    "print(*S[:i_min], *S[i_min+n//2:])"
   ]
  },
  {
   "cell_type": "code",
   "execution_count": 48,
   "metadata": {},
   "outputs": [
    {
     "name": "stdout",
     "output_type": "stream",
     "text": [
      "4.5\n",
      "1 10\n"
     ]
    }
   ],
   "source": [
    "import itertools\n",
    "\n",
    "S = set(S)\n",
    "\n",
    "pairs = list(itertools.combinations(S, len(S)//2))\n",
    "\n",
    "pair_max = None\n",
    "lam_max = 0\n",
    "\n",
    "for pair in pairs:\n",
    "    pair = set(pair)\n",
    "    pair_c = S - pair\n",
    "    lam = (max(pair)-min(pair))/(max(pair_c)-min(pair_c))\n",
    "    if lam > lam_max:\n",
    "        lam_max = lam\n",
    "        pair_max = pair\n",
    "print(lam_max)\n",
    "print(*pair_max)"
   ]
  },
  {
   "cell_type": "code",
   "execution_count": 29,
   "metadata": {},
   "outputs": [
    {
     "data": {
      "text/plain": [
       "{1, 2, 3, 50, 67, 99, 100}"
      ]
     },
     "execution_count": 29,
     "metadata": {},
     "output_type": "execute_result"
    }
   ],
   "source": [
    "S"
   ]
  },
  {
   "cell_type": "code",
   "execution_count": 50,
   "metadata": {},
   "outputs": [
    {
     "name": "stdout",
     "output_type": "stream",
     "text": [
      "1\n"
     ]
    }
   ],
   "source": [
    "N = int(input())\n",
    "\n",
    "abc = []\n",
    "for i in range(N):\n",
    "    abc.append(list(map(int, input().split())))\n",
    "\n",
    "Q = int(input())\n",
    "for i in range(Q):\n",
    "    a1, b1, _ = list(map(int, input().split()))\n",
    "    res = 0\n",
    "    for a2, b2, _ in abc:\n",
    "        if a1*b2 - a2*b1 == 0:\n",
    "            res += 1\n",
    "    print(res)"
   ]
  },
  {
   "cell_type": "code",
   "execution_count": 55,
   "metadata": {},
   "outputs": [
    {
     "name": "stdout",
     "output_type": "stream",
     "text": [
      "1\n"
     ]
    }
   ],
   "source": [
    "N = int(input())\n",
    "\n",
    "ks = {}\n",
    "\n",
    "for _ in range(N):\n",
    "    a, b, c = map(int, input().split())\n",
    "    k = -a / b if b != 0 else float('inf')\n",
    "    ks[k] = ks.get(k, 0) + 1  # Добавляем элемент slope или увеличиваем значение на 1, если он уже существует\n",
    "\n",
    "Q = int(input())\n",
    "\n",
    "for _ in range(Q):\n",
    "    a1, b1, _ = map(int, input().split())\n",
    "    bob_k = -a1 / b1 if b1 != 0 else float('inf')\n",
    "    print(ks.get(bob_k, 0))"
   ]
  },
  {
   "cell_type": "code",
   "execution_count": 56,
   "metadata": {},
   "outputs": [
    {
     "data": {
      "text/plain": [
       "{-0.5: 1}"
      ]
     },
     "execution_count": 56,
     "metadata": {},
     "output_type": "execute_result"
    }
   ],
   "source": []
  },
  {
   "cell_type": "code",
   "execution_count": 58,
   "metadata": {},
   "outputs": [
    {
     "data": {
      "text/plain": [
       "1.0695187165775402"
      ]
     },
     "execution_count": 58,
     "metadata": {},
     "output_type": "execute_result"
    }
   ],
   "source": [
    "200/187"
   ]
  },
  {
   "cell_type": "code",
   "execution_count": null,
   "metadata": {},
   "outputs": [],
   "source": [
    "import sys\n",
    "\n",
    "def get_page(logical_addr: int):\n",
    "    pm14 = (logical_addr >> 39) & 0x1ff\n",
    "    dir_ptr = (logical_addr >> 30) & 0x1ff\n",
    "    directory = (logical_addr >> 21) & 0x1ff\n",
    "    table = (logical_addr >> 12) & 0x1ff\n",
    "    offset = logical_addr & 0xfff\n",
    "    return (pm14, dir_ptr, directory, table, offset)\n",
    "\n",
    "def get_page_phy_addr(value: int) :\n",
    "    return (value & ((0xffffffffff) << 12))\n",
    "\n",
    "def get_phy_addr(page: tuple, mem_struct: dict, cr3: int) :\n",
    "    value = cr3\n",
    "    for i in range (len (page) - 1) :\n",
    "    index = page [1] * 8\n",
    "    value = mem_struct.get (index + value, 0)\n",
    "    if value & 1 == 0:\n",
    "        print (\"fault\")\n",
    "        return\n",
    "    \n",
    "    value = get_page_phy_addr(value)\n",
    "    print (value + page [-1])\n",
    "\n",
    "\n",
    "reader = (tuple (map(int, line.split ())) for line in sys.stdin)\n",
    "mem_rows, queries, cr3 = next(reader)\n",
    "mem_struct = dict ( [next(reader) for _ in range (mem_rows) ])\n",
    "\n",
    "for _ in range(queries):\n",
    "logical_addr, = next(reader)\n",
    "page = get_page (logical_addr)\n",
    "get_phy_addr(page, mem_struct, cr3)\n"
   ]
  },
  {
   "cell_type": "code",
   "execution_count": 4,
   "metadata": {},
   "outputs": [
    {
     "name": "stdout",
     "output_type": "stream",
     "text": [
      "2\n"
     ]
    }
   ],
   "source": [
    "def S(n, x, y):\n",
    "    # Базовый случай: если размер квадрата 1x1, то существует только одна последовательность\n",
    "    if n == 2:\n",
    "        return 1\n",
    "    \n",
    "    # Переменная для хранения суммы всех возможных последовательностей\n",
    "    total_sum = 0\n",
    "    \n",
    "    # Перебор всех возможных положений квадрата (n-1)x(n-1) внутри квадрата nxn\n",
    "    for i in range(2):\n",
    "        for j in range(2):\n",
    "            # Проверяем, чтобы координаты квадрата (n-1)x(n-1) оставались внутри квадрата nxn\n",
    "            if i < x <= n+i-1 and i < y <= n+j-1:\n",
    "                total_sum += S(n-1, x-i, y-j)\n",
    "    \n",
    "    return total_sum\n",
    "\n",
    "# Пример использования функции:\n",
    "n = 3\n",
    "x = 1\n",
    "y = 1\n",
    "print(S(n, x, y))\n"
   ]
  },
  {
   "cell_type": "code",
   "execution_count": 35,
   "metadata": {},
   "outputs": [
    {
     "data": {
      "text/html": [
       "<div>\n",
       "<style scoped>\n",
       "    .dataframe tbody tr th:only-of-type {\n",
       "        vertical-align: middle;\n",
       "    }\n",
       "\n",
       "    .dataframe tbody tr th {\n",
       "        vertical-align: top;\n",
       "    }\n",
       "\n",
       "    .dataframe thead th {\n",
       "        text-align: right;\n",
       "    }\n",
       "</style>\n",
       "<table border=\"1\" class=\"dataframe\">\n",
       "  <thead>\n",
       "    <tr style=\"text-align: right;\">\n",
       "      <th></th>\n",
       "      <th>0</th>\n",
       "      <th>1</th>\n",
       "      <th>2</th>\n",
       "      <th>3</th>\n",
       "      <th>4</th>\n",
       "      <th>5</th>\n",
       "      <th>6</th>\n",
       "      <th>7</th>\n",
       "      <th>8</th>\n",
       "      <th>9</th>\n",
       "      <th>10</th>\n",
       "    </tr>\n",
       "  </thead>\n",
       "  <tbody>\n",
       "    <tr>\n",
       "      <th>0</th>\n",
       "      <td>1</td>\n",
       "      <td>10</td>\n",
       "      <td>45</td>\n",
       "      <td>120</td>\n",
       "      <td>210</td>\n",
       "      <td>252</td>\n",
       "      <td>210</td>\n",
       "      <td>120</td>\n",
       "      <td>45</td>\n",
       "      <td>10</td>\n",
       "      <td>1</td>\n",
       "    </tr>\n",
       "    <tr>\n",
       "      <th>1</th>\n",
       "      <td>10</td>\n",
       "      <td>100</td>\n",
       "      <td>450</td>\n",
       "      <td>1200</td>\n",
       "      <td>2100</td>\n",
       "      <td>2520</td>\n",
       "      <td>2100</td>\n",
       "      <td>1200</td>\n",
       "      <td>450</td>\n",
       "      <td>100</td>\n",
       "      <td>10</td>\n",
       "    </tr>\n",
       "    <tr>\n",
       "      <th>2</th>\n",
       "      <td>45</td>\n",
       "      <td>450</td>\n",
       "      <td>2025</td>\n",
       "      <td>5400</td>\n",
       "      <td>9450</td>\n",
       "      <td>11340</td>\n",
       "      <td>9450</td>\n",
       "      <td>5400</td>\n",
       "      <td>2025</td>\n",
       "      <td>450</td>\n",
       "      <td>45</td>\n",
       "    </tr>\n",
       "    <tr>\n",
       "      <th>3</th>\n",
       "      <td>120</td>\n",
       "      <td>1200</td>\n",
       "      <td>5400</td>\n",
       "      <td>14400</td>\n",
       "      <td>25200</td>\n",
       "      <td>30240</td>\n",
       "      <td>25200</td>\n",
       "      <td>14400</td>\n",
       "      <td>5400</td>\n",
       "      <td>1200</td>\n",
       "      <td>120</td>\n",
       "    </tr>\n",
       "    <tr>\n",
       "      <th>4</th>\n",
       "      <td>210</td>\n",
       "      <td>2100</td>\n",
       "      <td>9450</td>\n",
       "      <td>25200</td>\n",
       "      <td>44100</td>\n",
       "      <td>52920</td>\n",
       "      <td>44100</td>\n",
       "      <td>25200</td>\n",
       "      <td>9450</td>\n",
       "      <td>2100</td>\n",
       "      <td>210</td>\n",
       "    </tr>\n",
       "    <tr>\n",
       "      <th>5</th>\n",
       "      <td>252</td>\n",
       "      <td>2520</td>\n",
       "      <td>11340</td>\n",
       "      <td>30240</td>\n",
       "      <td>52920</td>\n",
       "      <td>63504</td>\n",
       "      <td>52920</td>\n",
       "      <td>30240</td>\n",
       "      <td>11340</td>\n",
       "      <td>2520</td>\n",
       "      <td>252</td>\n",
       "    </tr>\n",
       "    <tr>\n",
       "      <th>6</th>\n",
       "      <td>210</td>\n",
       "      <td>2100</td>\n",
       "      <td>9450</td>\n",
       "      <td>25200</td>\n",
       "      <td>44100</td>\n",
       "      <td>52920</td>\n",
       "      <td>44100</td>\n",
       "      <td>25200</td>\n",
       "      <td>9450</td>\n",
       "      <td>2100</td>\n",
       "      <td>210</td>\n",
       "    </tr>\n",
       "    <tr>\n",
       "      <th>7</th>\n",
       "      <td>120</td>\n",
       "      <td>1200</td>\n",
       "      <td>5400</td>\n",
       "      <td>14400</td>\n",
       "      <td>25200</td>\n",
       "      <td>30240</td>\n",
       "      <td>25200</td>\n",
       "      <td>14400</td>\n",
       "      <td>5400</td>\n",
       "      <td>1200</td>\n",
       "      <td>120</td>\n",
       "    </tr>\n",
       "    <tr>\n",
       "      <th>8</th>\n",
       "      <td>45</td>\n",
       "      <td>450</td>\n",
       "      <td>2025</td>\n",
       "      <td>5400</td>\n",
       "      <td>9450</td>\n",
       "      <td>11340</td>\n",
       "      <td>9450</td>\n",
       "      <td>5400</td>\n",
       "      <td>2025</td>\n",
       "      <td>450</td>\n",
       "      <td>45</td>\n",
       "    </tr>\n",
       "    <tr>\n",
       "      <th>9</th>\n",
       "      <td>10</td>\n",
       "      <td>100</td>\n",
       "      <td>450</td>\n",
       "      <td>1200</td>\n",
       "      <td>2100</td>\n",
       "      <td>2520</td>\n",
       "      <td>2100</td>\n",
       "      <td>1200</td>\n",
       "      <td>450</td>\n",
       "      <td>100</td>\n",
       "      <td>10</td>\n",
       "    </tr>\n",
       "    <tr>\n",
       "      <th>10</th>\n",
       "      <td>1</td>\n",
       "      <td>10</td>\n",
       "      <td>45</td>\n",
       "      <td>120</td>\n",
       "      <td>210</td>\n",
       "      <td>252</td>\n",
       "      <td>210</td>\n",
       "      <td>120</td>\n",
       "      <td>45</td>\n",
       "      <td>10</td>\n",
       "      <td>1</td>\n",
       "    </tr>\n",
       "  </tbody>\n",
       "</table>\n",
       "</div>"
      ],
      "text/plain": [
       "     0     1      2      3      4      5      6      7      8     9    10\n",
       "0     1    10     45    120    210    252    210    120     45    10    1\n",
       "1    10   100    450   1200   2100   2520   2100   1200    450   100   10\n",
       "2    45   450   2025   5400   9450  11340   9450   5400   2025   450   45\n",
       "3   120  1200   5400  14400  25200  30240  25200  14400   5400  1200  120\n",
       "4   210  2100   9450  25200  44100  52920  44100  25200   9450  2100  210\n",
       "5   252  2520  11340  30240  52920  63504  52920  30240  11340  2520  252\n",
       "6   210  2100   9450  25200  44100  52920  44100  25200   9450  2100  210\n",
       "7   120  1200   5400  14400  25200  30240  25200  14400   5400  1200  120\n",
       "8    45   450   2025   5400   9450  11340   9450   5400   2025   450   45\n",
       "9    10   100    450   1200   2100   2520   2100   1200    450   100   10\n",
       "10    1    10     45    120    210    252    210    120     45    10    1"
      ]
     },
     "execution_count": 35,
     "metadata": {},
     "output_type": "execute_result"
    }
   ],
   "source": [
    "def S(n, x, y):\n",
    "    # Базовый случай: если размер квадрата 2x2, то существует только одна последовательность\n",
    "    if n == 2:\n",
    "        return 1\n",
    "    \n",
    "    # Переменная для хранения суммы всех возможных последовательностей\n",
    "    total_sum = 0\n",
    "    \n",
    "    # Перебор всех возможных положений квадрата (n-1)x(n-1) внутри квадрата nxn\n",
    "    for i in range(2):\n",
    "        for j in range(2):\n",
    "            # Проверяем, чтобы координаты квадрата (n-1)x(n-1) оставались внутри квадрата nxn\n",
    "            if i < x <= n+i-1 and j < y <= n+j-1:\n",
    "                total_sum += S(n-1, x-i, y-j)\n",
    "    \n",
    "    return total_sum\n",
    "\n",
    "def build_table(n):\n",
    "    table = np.zeros((n, n), dtype=int)\n",
    "    \n",
    "    for x in range(1, n+1):\n",
    "        for y in range(1, n+1):\n",
    "            table[x-1][y-1] = S(n, x, y)\n",
    "    \n",
    "    return table\n",
    "\n",
    "# Пример использования функции для создания таблицы размером n на n:\n",
    "n = 11\n",
    "table = build_table(n)\n",
    "df_table = pd.DataFrame(table)\n",
    "\n",
    "df_table\n"
   ]
  },
  {
   "cell_type": "code",
   "execution_count": 36,
   "metadata": {},
   "outputs": [
    {
     "data": {
      "text/plain": [
       "63504"
      ]
     },
     "execution_count": 36,
     "metadata": {},
     "output_type": "execute_result"
    }
   ],
   "source": [
    "x = 6\n",
    "y = 6\n",
    "\n",
    "math.comb(n-1, x-1) * math.comb(n-1, y-1)"
   ]
  },
  {
   "cell_type": "code",
   "execution_count": 1,
   "metadata": {},
   "outputs": [],
   "source": [
    "import control as ctrl"
   ]
  },
  {
   "cell_type": "code",
   "execution_count": 5,
   "metadata": {},
   "outputs": [
    {
     "data": {
      "text/latex": [
       "$$\\frac{1.776 \\times 10^{-15} s^6 - 7.105 \\times 10^{-15} s^5 + 6.217 \\times 10^{-15} s^4 + s^3 - s^2 + 9.992 \\times 10^{-16} s}{s^7 - 4 s^6 + 5 s^5 - 2 s^4 + s^3 + 3.331 \\times 10^{-16} s^2 - s}$$"
      ],
      "text/plain": [
       "TransferFunction(array([ 1.77635684e-15, -7.10542736e-15,  6.21724894e-15,  1.00000000e+00,\n",
       "       -1.00000000e+00,  9.99200722e-16,  0.00000000e+00]), array([ 1.00000000e+00, -4.00000000e+00,  5.00000000e+00, -2.00000000e+00,\n",
       "        1.00000000e+00,  3.33066907e-16, -1.00000000e+00,  0.00000000e+00]))"
      ]
     },
     "execution_count": 5,
     "metadata": {},
     "output_type": "execute_result"
    }
   ],
   "source": [
    "import numpy as np\n",
    "import control as ctrl\n",
    "\n",
    "# Define the example constants\n",
    "a1, a2, a3, a4, a5, a6, a7, a8, a9 = 1, 1, 1, 1, 1, 1, 1, 1, 1  # Example values\n",
    "\n",
    "# Define the system matrices\n",
    "A = np.array([\n",
    "    [0, a1, 0, 0, 0, 0],\n",
    "    [0, 0, a2, 0, 0, 0],\n",
    "    [0, 0, a3, a4, 0, 0],\n",
    "    [0, 0, 0, a5, a6, 0],\n",
    "    [0, 0, 0, a7, a8, 0],\n",
    "    [0, 0, 0, 0, 0, a9]\n",
    "])\n",
    "B = np.array([[0], [0], [0], [0], [1], [0]])\n",
    "C = np.array([[0, 1, 0, 0, 0, 0]])\n",
    "D = 0\n",
    "\n",
    "# Define the state-space system\n",
    "sys = ctrl.ss(A, B, C, D)\n",
    "\n",
    "# Define the PI controller transfer function W_{e -> u}(s) = (k_p s + k_i) / s\n",
    "k_p = 1  # Example value for k_p\n",
    "k_i = 1  # Example value for k_i\n",
    "regulator = ctrl.TransferFunction([k_p, k_i], [1, 0])\n",
    "\n",
    "# Find the closed-loop system\n",
    "closed_loop_sys = ctrl.feedback(sys, regulator)\n",
    "\n",
    "# Find the transfer function from g to y\n",
    "G_to_Y_tf = ctrl.ss2tf(closed_loop_sys)\n",
    "\n",
    "# Display the transfer function and find the order of astatism\n",
    "G_to_Y_tf\n"
   ]
  },
  {
   "cell_type": "code",
   "execution_count": 6,
   "metadata": {},
   "outputs": [
    {
     "data": {
      "image/png": "[encoded data removed]",
      "text/plain": [
       "<Figure size 1000x600 with 1 Axes>"
      ]
     },
     "metadata": {},
     "output_type": "display_data"
    }
   ],
   "source": [
    "import numpy as np\n",
    "import control as ctrl\n",
    "import matplotlib.pyplot as plt\n",
    "\n",
    "# Define the example constants\n",
    "a1, a2, a3, a4, a5, a6, a7, a8, a9 = 1, 1, 1, 1, 1, 1, 1, 1, 1  # Example values\n",
    "\n",
    "# Define the system matrices\n",
    "A = np.array([\n",
    "    [0, a1, 0, 0, 0, 0],\n",
    "    [0, 0, a2, 0, 0, 0],\n",
    "    [0, 0, a3, a4, 0, 0],\n",
    "    [0, 0, 0, a5, a6, 0],\n",
    "    [0, 0, 0, a7, a8, 0],\n",
    "    [0, 0, 0, 0, 0, a9]\n",
    "])\n",
    "B = np.array([[0], [0], [0], [0], [1], [0]])\n",
    "C = np.array([[0, 1, 0, 0, 0, 0]])\n",
    "D = 0\n",
    "\n",
    "# Define the state-space system\n",
    "sys = ctrl.ss(A, B, C, D)\n",
    "\n",
    "# Define the PI controller transfer function W_{e -> u}(s) = (k_p s + k_i) / s\n",
    "k_p = 1  # Example value for k_p\n",
    "k_i = 1  # Example value for k_i\n",
    "regulator = ctrl.TransferFunction([k_p, k_i], [1, 0])\n",
    "\n",
    "# Find the closed-loop system\n",
    "closed_loop_sys = ctrl.feedback(sys, regulator)\n",
    "\n",
    "# Define the reference input g(t) = 1/s (step input)\n",
    "T = np.linspace(0, 50, 500)\n",
    "T, yout = ctrl.step_response(closed_loop_sys, T)\n",
    "\n",
    "# Plot the step response\n",
    "plt.figure(figsize=(10, 6))\n",
    "plt.plot(T, yout, label=\"Closed-loop Step Response\")\n",
    "plt.title(\"Step Response of the Closed-Loop System\")\n",
    "plt.xlabel(\"Time (s)\")\n",
    "plt.ylabel(\"Output y(t)\")\n",
    "plt.grid(True)\n",
    "plt.legend()\n",
    "plt.show()\n"
   ]
  },
  {
   "cell_type": "code",
   "execution_count": 10,
   "metadata": {},
   "outputs": [
    {
     "data": {
      "text/latex": [
       "$$\\frac{-8.882 \\times 10^{-16} s^6 + 1.776 \\times 10^{-15} s^5 + 4.441 \\times 10^{-16} s^4 + s^3 + 4.441 \\times 10^{-16} s^2 - s}{s^7 - 4 s^6 + 5 s^5 - 2 s^4}$$"
      ],
      "text/plain": [
       "TransferFunction(array([-8.88178420e-16,  1.77635684e-15,  4.44089210e-16,  1.00000000e+00,\n",
       "        4.44089210e-16, -1.00000000e+00,  0.00000000e+00]), array([ 1., -4.,  5., -2.,  0.,  0.,  0.,  0.]))"
      ]
     },
     "execution_count": 10,
     "metadata": {},
     "output_type": "execute_result"
    }
   ],
   "source": [
    "import numpy as np\n",
    "import control as ctrl\n",
    "\n",
    "# Define the example constants\n",
    "a1, a2, a3, a4, a5, a6, a7, a8, a9 = 1, 1, 1, 1, 1, 1, 1, 1, 1  # Example values\n",
    "\n",
    "# Define the system matrices\n",
    "A = np.array([\n",
    "    [0, a1, 0, 0, 0, 0],\n",
    "    [0, 0, a2, 0, 0, 0],\n",
    "    [0, 0, a3, a4, 0, 0],\n",
    "    [0, 0, 0, a5, a6, 0],\n",
    "    [0, 0, 0, a7, a8, 0],\n",
    "    [0, 0, 0, 0, 0, a9]\n",
    "])\n",
    "B = np.array([[0], [0], [0], [0], [1], [0]])\n",
    "C = np.array([[0, 1, 0, 0, 0, 0]])\n",
    "D = 0\n",
    "\n",
    "# Define the state-space system\n",
    "sys = ctrl.ss(A, B, C, D)\n",
    "\n",
    "# Define the PI controller transfer function W_{e -> u}(s) = (k_p s + k_i) / s\n",
    "k_p = 1  # Example value for k_p\n",
    "k_i = 1  # Example value for k_i\n",
    "regulator = ctrl.TransferFunction([k_p, k_i], [1, 0])\n",
    "\n",
    "# Find the transfer function of the state-space system\n",
    "sys_tf = ctrl.ss2tf(sys)\n",
    "\n",
    "# Multiply the system transfer function by the PI controller transfer function\n",
    "open_loop_tf = sys_tf * regulator\n",
    "open_loop_tf"
   ]
  },
  {
   "cell_type": "code",
   "execution_count": 11,
   "metadata": {},
   "outputs": [
    {
     "data": {
      "text/latex": [
       "$$\\frac{s + 1}{s}$$"
      ],
      "text/plain": [
       "TransferFunction(array([1, 1]), array([1, 0]))"
      ]
     },
     "execution_count": 11,
     "metadata": {},
     "output_type": "execute_result"
    }
   ],
   "source": [
    "regulator"
   ]
  },
  {
   "cell_type": "code",
   "execution_count": 16,
   "metadata": {},
   "outputs": [
    {
     "data": {
      "text/latex": [
       "$$\\frac{3435}{0.077 s^2 + s}$$"
      ],
      "text/plain": [
       "TransferFunction(array([3434.7]), array([0.077, 1.   , 0.   ]))"
      ]
     },
     "execution_count": 16,
     "metadata": {},
     "output_type": "execute_result"
    }
   ],
   "source": [
    "import numpy as np\n",
    "import control as ctrl\n",
    "\n",
    "# Given constants\n",
    "k = 114.49\n",
    "T = 0.077\n",
    "k_p = 30\n",
    "\n",
    "# Transfer function of the DC motor and PI controller\n",
    "motor_tf = ctrl.TransferFunction([k], [T, 1, 0])\n",
    "pi_controller = ctrl.TransferFunction([k_p], [1])\n",
    "\n",
    "# Open-loop transfer function\n",
    "open_loop_tf = pi_controller * motor_tf\n",
    "open_loop_tf"
   ]
  },
  {
   "cell_type": "code",
   "execution_count": 19,
   "metadata": {},
   "outputs": [
    {
     "data": {
      "text/latex": [
       "$$\\frac{264.5 s^2 + 3435 s}{0.005929 s^4 + 0.154 s^3 + 265.5 s^2 + 3435 s}$$"
      ],
      "text/plain": [
       "TransferFunction(array([ 264.4719, 3434.7   ,    0.    ]), array([5.929000e-03, 1.540000e-01, 2.654719e+02, 3.434700e+03,\n",
       "       0.000000e+00]))"
      ]
     },
     "execution_count": 19,
     "metadata": {},
     "output_type": "execute_result"
    }
   ],
   "source": [
    "pi_controller * motor_tf/ (1 + pi_controller * motor_tf)"
   ]
  },
  {
   "cell_type": "code",
   "execution_count": 20,
   "metadata": {},
   "outputs": [
    {
     "data": {
      "text/plain": [
       "33.61392092650074"
      ]
     },
     "execution_count": 20,
     "metadata": {},
     "output_type": "execute_result"
    }
   ],
   "source": [
    "np.sqrt(30*114.49/0.077)/2/np.pi"
   ]
  },
  {
   "cell_type": "code",
   "execution_count": 21,
   "metadata": {},
   "outputs": [
    {
     "name": "stdout",
     "output_type": "stream",
     "text": [
      "Transfer function (V(s) / V_ref(s)):\n",
      "<TransferFunction>: sys[68]\n",
      "Inputs (1): ['u[0]']\n",
      "Outputs (1): ['y[0]']\n",
      "\n",
      "\n",
      "       1\n",
      "---------------\n",
      "0.2 s^2 + s + 1\n",
      "\n"
     ]
    },
    {
     "data": {
      "image/png": "[encoded data removed]",
      "text/plain": [
       "<Figure size 1000x600 with 1 Axes>"
      ]
     },
     "metadata": {},
     "output_type": "display_data"
    }
   ],
   "source": [
    "import control as ctrl\n",
    "\n",
    "# Given parameter\n",
    "k = 1  # Example value for the proportional gain\n",
    "\n",
    "# Define the transfer function\n",
    "numerator = [k]\n",
    "denominator = [0.2, 1, k]\n",
    "\n",
    "# Create the transfer function\n",
    "transfer_function = ctrl.TransferFunction(numerator, denominator)\n",
    "\n",
    "# Print the transfer function\n",
    "print(\"Transfer function (V(s) / V_ref(s)):\")\n",
    "print(transfer_function)\n",
    "\n",
    "# Optionally, you can also plot the response to a step input to see the behavior\n",
    "import matplotlib.pyplot as plt\n",
    "\n",
    "# Time vector\n",
    "T = np.linspace(0, 10, 1000)\n",
    "\n",
    "# Step response\n",
    "T, yout = ctrl.step_response(transfer_function, T)\n",
    "\n",
    "# Plot the step response\n",
    "plt.figure(figsize=(10, 6))\n",
    "plt.plot(T, yout)\n",
    "plt.title(\"Step Response of the System\")\n",
    "plt.xlabel(\"Time (s)\")\n",
    "plt.ylabel(\"Speed v(t)\")\n",
    "plt.grid(True)\n",
    "plt.show()\n"
   ]
  },
  {
   "cell_type": "code",
   "execution_count": 30,
   "metadata": {},
   "outputs": [
    {
     "data": {
      "image/png": "[encoded data removed]",
      "text/plain": [
       "<Figure size 1000x600 with 1 Axes>"
      ]
     },
     "metadata": {},
     "output_type": "display_data"
    },
    {
     "data": {
      "text/plain": [
       "0.7853981633974483"
      ]
     },
     "execution_count": 30,
     "metadata": {},
     "output_type": "execute_result"
    }
   ],
   "source": [
    "import numpy as np\n",
    "import control as ctrl\n",
    "import matplotlib.pyplot as plt\n",
    "\n",
    "# Define the transfer function of the system without delay\n",
    "num = [1]\n",
    "den = [1, 2, 5]\n",
    "system = ctrl.TransferFunction(num, den)\n",
    "\n",
    "# Define the time delay\n",
    "tau_max = np.pi / 4\n",
    "\n",
    "# Create the delayed system\n",
    "delayed_system = ctrl.pade(0, 1)  # Using Pade approximation\n",
    "delayed_tf = ctrl.series(ctrl.TransferFunction(*delayed_system), system)\n",
    "\n",
    "# Check the step response\n",
    "T, yout = ctrl.step_response(delayed_tf)\n",
    "\n",
    "# Plot the step response\n",
    "plt.figure(figsize=(10, 6))\n",
    "plt.plot(T, yout)\n",
    "plt.title(\"Step Response of the System with Delay\")\n",
    "plt.xlabel(\"Time (s)\")\n",
    "plt.ylabel(\"Output x(t)\")\n",
    "plt.grid(True)\n",
    "plt.show()\n",
    "\n",
    "# Print the maximum allowable delay\n",
    "tau_max\n"
   ]
  },
  {
   "cell_type": "code",
   "execution_count": 37,
   "metadata": {},
   "outputs": [
    {
     "ename": "ValueError",
     "evalue": "not enough values to unpack (expected 3, got 2)",
     "output_type": "error",
     "traceback": [
      "\u001b[0;31m---------------------------------------------------------------------------\u001b[0m",
      "\u001b[0;31mValueError\u001b[0m                                Traceback (most recent call last)",
      "Cell \u001b[0;32mIn[37], line 11\u001b[0m\n\u001b[1;32m      8\u001b[0m system \u001b[38;5;241m=\u001b[39m ctrl\u001b[38;5;241m.\u001b[39mTransferFunction(num, den)\n\u001b[1;32m     10\u001b[0m \u001b[38;5;66;03m# Bode plot to find the crossover frequency\u001b[39;00m\n\u001b[0;32m---> 11\u001b[0m mag, phase, omega \u001b[38;5;241m=\u001b[39m ctrl\u001b[38;5;241m.\u001b[39mbode(system, dB\u001b[38;5;241m=\u001b[39m\u001b[38;5;28;01mTrue\u001b[39;00m)\n\u001b[1;32m     13\u001b[0m \u001b[38;5;66;03m# Convert magnitude to linear scale for comparison\u001b[39;00m\n\u001b[1;32m     14\u001b[0m mag_lin \u001b[38;5;241m=\u001b[39m \u001b[38;5;241m10\u001b[39m \u001b[38;5;241m*\u001b[39m\u001b[38;5;241m*\u001b[39m (mag \u001b[38;5;241m/\u001b[39m \u001b[38;5;241m20\u001b[39m)\n",
      "\u001b[0;31mValueError\u001b[0m: not enough values to unpack (expected 3, got 2)"
     ]
    },
    {
     "data": {
      "image/png": "[encoded data removed]",
      "text/plain": [
       "<Figure size 640x480 with 2 Axes>"
      ]
     },
     "metadata": {},
     "output_type": "display_data"
    }
   ],
   "source": [
    "import numpy as np\n",
    "import control as ctrl\n",
    "import matplotlib.pyplot as plt\n",
    "\n",
    "# Define the transfer function of the system without delay\n",
    "num = [-2, -5]\n",
    "den = [1, 2, 5]\n",
    "system = ctrl.TransferFunction(num, den)\n",
    "\n",
    "# Bode plot to find the crossover frequency\n",
    "mag, phase, omega = ctrl.bode(system, dB=True)\n",
    "\n",
    "# Convert magnitude to linear scale for comparison\n",
    "mag_lin = 10 ** (mag / 20)\n",
    "\n",
    "# Find the phase crossover frequency (where magnitude = 1)\n",
    "crossover_idx = np.where(mag_lin >= 1)[0][0]\n",
    "omega_c = omega[crossover_idx]\n",
    "\n",
    "# Phase margin at the crossover frequency\n",
    "phase_margin = phase[crossover_idx] + 180  # degrees\n",
    "\n",
    "# Calculate the maximum allowable delay\n",
    "tau_critical = phase_margin / omega_c\n",
    "\n",
    "# Print the results\n",
    "tau_critical\n"
   ]
  },
  {
   "cell_type": "code",
   "execution_count": 38,
   "metadata": {},
   "outputs": [
    {
     "data": {
      "text/plain": [
       "5.209684113180582"
      ]
     },
     "execution_count": 38,
     "metadata": {},
     "output_type": "execute_result"
    }
   ],
   "source": [
    "import numpy as np\n",
    "import control as ctrl\n",
    "\n",
    "# Define the system matrices\n",
    "A = np.array([\n",
    "    [0, 1, 0, 0],\n",
    "    [-1, 0, 1, 0],\n",
    "    [0, 0, 0, 1],\n",
    "    [1, 0, -1, 0]\n",
    "])\n",
    "\n",
    "B = np.array([\n",
    "    [0],\n",
    "    [1],\n",
    "    [0],\n",
    "    [0]\n",
    "])\n",
    "\n",
    "E = np.array([\n",
    "    [0],\n",
    "    [0],\n",
    "    [0],\n",
    "    [1]\n",
    "])\n",
    "\n",
    "# Define the output matrix\n",
    "C = np.array([\n",
    "    [5, 0, 0, 0],\n",
    "    [0, 0, 0, 2]\n",
    "])\n",
    "\n",
    "# Define the weight matrices for the LQR\n",
    "Q = C.T @ C  # Weighting on the state\n",
    "R = np.array([[1]])  # Weighting on the input\n",
    "\n",
    "# Solve the LQR problem to get the optimal K\n",
    "K, _, _ = ctrl.lqr(A, B, Q, R)\n",
    "\n",
    "# Extract the optimal gain k1\n",
    "k1 = K[0, 0]\n",
    "k1\n"
   ]
  },
  {
   "cell_type": "code",
   "execution_count": 42,
   "metadata": {},
   "outputs": [
    {
     "data": {
      "text/plain": [
       "1.5944831605212673"
      ]
     },
     "execution_count": 42,
     "metadata": {},
     "output_type": "execute_result"
    }
   ],
   "source": [
    "import numpy as np\n",
    "import control as ctrl\n",
    "\n",
    "# Define the system matrices\n",
    "A = np.array([[0, 1], \n",
    "              [-1, -1]])\n",
    "\n",
    "B1 = np.array([[0, 0], \n",
    "               [1, 0]])\n",
    "\n",
    "B2 = np.array([[0], \n",
    "               [1]])\n",
    "\n",
    "C1 = np.array([[2, 0], \n",
    "               [0, 0]])\n",
    "\n",
    "D11 = np.array([[0, 0], \n",
    "                [0, 0]])\n",
    "\n",
    "D12 = np.array([[0], \n",
    "                [1]])\n",
    "\n",
    "C2 = np.array([[1, 0]])\n",
    "\n",
    "D21 = np.array([[0, 1]])\n",
    "\n",
    "# Construct the state-space system\n",
    "P = ctrl.ss(A, np.hstack((B1, B2)), np.vstack((C1, C2)), np.block([[D11, D12], [D21, np.zeros((1,1))]]))\n",
    "\n",
    "# Compute the H-infinity optimal controller\n",
    "K, CL, gamma, rcond = ctrl.hinfsyn(P, 1, 1)\n",
    "\n",
    "gamma\n"
   ]
  },
  {
   "cell_type": "code",
   "execution_count": 41,
   "metadata": {},
   "outputs": [
    {
     "name": "stdout",
     "output_type": "stream",
     "text": [
      "Collecting slycot\n",
      "  Using cached slycot-0.6.0.tar.gz (3.1 MB)\n",
      "  Installing build dependencies ... \u001b[?25ldone\n",
      "\u001b[?25h  Getting requirements to build wheel ... \u001b[?25ldone\n",
      "\u001b[?25h  Preparing metadata (pyproject.toml) ... \u001b[?25ldone\n",
      "\u001b[?25hRequirement already satisfied: numpy>=1.23.1 in /home/dimka/anaconda3/lib/python3.11/site-packages (from slycot) (1.24.4)\n",
      "Building wheels for collected packages: slycot\n",
      "  Building wheel for slycot (pyproject.toml) ... \u001b[?25ldone\n",
      "\u001b[?25h  Created wheel for slycot: filename=slycot-0.6.0-cp311-cp311-linux_x86_64.whl size=2190083 sha256=9df7875c3b940b481e34c23e9403f5a4ccb2f828ba4bf106e1328a5159777335\n",
      "  Stored in directory: /home/dimka/.cache/pip/wheels/d5/87/ac/940d8a47d96bfc14450a1ea8c348711fe370046f8b3976de7c\n",
      "Successfully built slycot\n",
      "Installing collected packages: slycot\n",
      "Successfully installed slycot-0.6.0\n"
     ]
    }
   ],
   "source": [
    "!pip install slycot"
   ]
  },
  {
   "cell_type": "code",
   "execution_count": null,
   "metadata": {},
   "outputs": [],
   "source": []
  }
 ],
 "metadata": {
  "kernelspec": {
   "display_name": "base",
   "language": "python",
   "name": "python3"
  },
  "language_info": {
   "codemirror_mode": {
    "name": "ipython",
    "version": 3
   },
   "file_extension": ".py",
   "mimetype": "text/x-python",
   "name": "python",
   "nbconvert_exporter": "python",
   "pygments_lexer": "ipython3",
   "version": "3.11.8"
  }
 },
 "nbformat": 4,
 "nbformat_minor": 2
}
